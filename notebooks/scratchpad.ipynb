{
 "cells": [
  {
   "cell_type": "code",
   "execution_count": 1,
   "metadata": {},
   "outputs": [],
   "source": [
    "import torch\n",
    "import dgl\n",
    "import datetime\n",
    "\n",
    "from dgl.data.utils import makedirs, save_info, load_info\n",
    "from dgl.sampling import node2vec_random_walk\n",
    "from sklearn.model_selection import train_test_split\n",
    "from collections import Counter\n",
    "\n",
    "import numpy as np\n",
    "import pandas as pd\n",
    "import seaborn as sb\n",
    "import seaborn.objects as so\n",
    "\n",
    "pd.set_option('display.max_rows', 200)\n",
    "pd.set_option('display.max_columns', 200)\n",
    "\n",
    "# Append path\n",
    "import sys\n",
    "sys.path.append('../src')\n",
    "\n",
    "import xgboost as xgb\n",
    "from sklearn.metrics import roc_auc_score, average_precision_score, f1_score\n",
    "\n",
    "from torch.optim import Adam\n",
    "from torch.functional import F\n",
    "\n",
    "import utils.utils_func\n",
    "import experiment_multiround.supervised_multi\n",
    "import models.benchmarks_supervised.simple\n",
    "import models.benchmarks_supervised.spectral\n",
    "import models.benchmarks_supervised.h2fd\n",
    "import models.benchmarks_supervised.booster\n",
    "import models.proposed_supervised.prototype\n",
    "\n",
    "from experiment_multiround.supervised_multi import MultiroundExperiment\n",
    "from models.benchmarks_supervised.simple import GCN\n",
    "from models.benchmarks_supervised.spectral import BWGNN\n",
    "from models.benchmarks_supervised.h2fd import H2FD\n",
    "from models.benchmarks_supervised.booster import GIN_noparam\n",
    "from models.proposed_supervised.prototype import ProtoFraud, SplitProtoFraud\n"
   ]
  },
  {
   "cell_type": "code",
   "execution_count": 2,
   "metadata": {},
   "outputs": [
    {
     "data": {
      "text/plain": [
       "tensor([3, 4])"
      ]
     },
     "execution_count": 2,
     "metadata": {},
     "output_type": "execute_result"
    }
   ],
   "source": [
    "torch.tensor([1, 2, 3, 4])[2:]"
   ]
  },
  {
   "cell_type": "code",
   "execution_count": 3,
   "metadata": {},
   "outputs": [],
   "source": [
    "### DATASET STUFF\n",
    "dataset, _ = dgl.load_graphs(f'../dataset/tfinance')\n",
    "graph = dataset[0].long()\n",
    "\n",
    "if len(graph.ndata['label'].shape) > 1:\n",
    "    graph.ndata['label'] = graph.ndata['label'].argmax(1)\n",
    "    graph.ndata['label'] = graph.ndata['label'].long().squeeze(-1)\n",
    "graph.ndata['feature'] = graph.ndata['feature'].float()\n"
   ]
  },
  {
   "cell_type": "code",
   "execution_count": 4,
   "metadata": {},
   "outputs": [],
   "source": [
    "in_feats = graph.ndata['feature'].shape[1]\n",
    "num_classes = 2\n",
    "h_feats = 10\n",
    "num_layers = 2\n",
    "num_proto = 3\n",
    "\n",
    "model = SplitProtoFraud(in_feats, num_classes, h_feats, num_layers, num_proto=num_proto)"
   ]
  },
  {
   "cell_type": "code",
   "execution_count": 5,
   "metadata": {},
   "outputs": [
    {
     "name": "stdout",
     "output_type": "stream",
     "text": [
      "h torch.Size([42484443, 10])\n",
      "lbl torch.Size([42484443])\n",
      "Message passing time 0.687891960144043\n",
      "Postprocessing time 0.004511356353759766\n",
      "h torch.Size([42484443, 30])\n",
      "lbl torch.Size([42484443])\n",
      "Message passing time 6.1302220821380615\n",
      "Postprocessing time 0.005001544952392578\n",
      "torch.Size([1803, 90])\n",
      "Full batch converged at iteration 23/100 with center shifts = tensor([0.]).\n",
      "Full batch converged at iteration 17/100 with center shifts = tensor([0.]).\n",
      "K-means time 2.182706594467163\n",
      "Distance calc time 0.014237642288208008\n",
      "Inference time 12.547052383422852\n"
     ]
    }
   ],
   "source": [
    "import time\n",
    "\n",
    "start = time.time()\n",
    "model(graph, graph.ndata['feature'])\n",
    "print('Inference time', time.time() - start)"
   ]
  },
  {
   "cell_type": "code",
   "execution_count": null,
   "metadata": {},
   "outputs": [],
   "source": []
  }
 ],
 "metadata": {
  "kernelspec": {
   "display_name": "base-dglpyg",
   "language": "python",
   "name": "python3"
  },
  "language_info": {
   "codemirror_mode": {
    "name": "ipython",
    "version": 3
   },
   "file_extension": ".py",
   "mimetype": "text/x-python",
   "name": "python",
   "nbconvert_exporter": "python",
   "pygments_lexer": "ipython3",
   "version": "3.9.18"
  }
 },
 "nbformat": 4,
 "nbformat_minor": 2
}
